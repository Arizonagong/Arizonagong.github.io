{
 "cells": [
  {
   "cell_type": "code",
   "execution_count": null,
   "metadata": {},
   "outputs": [],
   "source": [
    "# Hypothesis Testing: P-value calculation"
   ]
  },
  {
   "cell_type": "code",
   "execution_count": 2,
   "metadata": {},
   "outputs": [],
   "source": [
    "import numpy as np\n",
    "import pandas as pd\n",
    "import scipy.stats as st"
   ]
  },
  {
   "cell_type": "code",
   "execution_count": 3,
   "metadata": {},
   "outputs": [
    {
     "name": "stdout",
     "output_type": "stream",
     "text": [
      "2.8235294117647083\n"
     ]
    }
   ],
   "source": [
    "# Two tail testing example\n",
    "\n",
    "# scenario: average weight of new born babies\n",
    "# H0: average GPA with new curriculum = 2.5\n",
    "# Ha: average GPA with new curriculum =/ 2.5\n",
    "\n",
    "# Set your significant level: 0.05, two-tail 0.05/2=0.025\n",
    "\n",
    "# Set your input value\n",
    "hv=2.5\n",
    "m=2.6\n",
    "sd=0.1\n",
    "n=50\n",
    "degf=n-1\n",
    "\n",
    "# T-value given your input value\n",
    "t=abs(m-hv)/(sd/np.sqrt(n))\n",
    "\n",
    "print(t)"
   ]
  },
  {
   "cell_type": "code",
   "execution_count": 4,
   "metadata": {},
   "outputs": [
    {
     "data": {
      "text/plain": [
       "0.007785446023753417"
      ]
     },
     "execution_count": 4,
     "metadata": {},
     "output_type": "execute_result"
    }
   ],
   "source": [
    "# Calculate your p-value\n",
    "(1-st.t.cdf(t,degf))*2"
   ]
  },
  {
   "cell_type": "code",
   "execution_count": 7,
   "metadata": {},
   "outputs": [
    {
     "name": "stdout",
     "output_type": "stream",
     "text": [
      "1.6000000000000016\n"
     ]
    }
   ],
   "source": [
    "# Single tail testing example\n",
    "\n",
    "# scenario: average weight of new born babies\n",
    "# H0: weight of new born babies <= 3kg\n",
    "# Ha: weight of new born babies > 3kg\n",
    "\n",
    "# Set your significant level: 0.05,\n",
    "\n",
    "# Set your input value\n",
    "hv=3\n",
    "m=3.08\n",
    "sd=0.3\n",
    "n=36\n",
    "degf=n-1\n",
    "\n",
    "# Calculate T value\n",
    "t=abs(m-hv)/(sd/np.sqrt(n))\n",
    "print(t)"
   ]
  },
  {
   "cell_type": "code",
   "execution_count": 12,
   "metadata": {},
   "outputs": [
    {
     "name": "stdout",
     "output_type": "stream",
     "text": [
      "0.05929392433316516 0.11858784866633032 0.21455372908730208\n"
     ]
    }
   ],
   "source": [
    "# Calculate P value\n",
    "a=(1-st.t.cdf(t,degf))\n",
    "b=(1-st.t.cdf(t,degf))*2\n",
    "c=(1-st.t.cdf(t/2,degf))\n",
    "print(a,b,c)"
   ]
  }
 ],
 "metadata": {
  "kernelspec": {
   "display_name": ".venv",
   "language": "python",
   "name": "python3"
  },
  "language_info": {
   "codemirror_mode": {
    "name": "ipython",
    "version": 3
   },
   "file_extension": ".py",
   "mimetype": "text/x-python",
   "name": "python",
   "nbconvert_exporter": "python",
   "pygments_lexer": "ipython3",
   "version": "3.8.5"
  },
  "orig_nbformat": 4
 },
 "nbformat": 4,
 "nbformat_minor": 2
}
