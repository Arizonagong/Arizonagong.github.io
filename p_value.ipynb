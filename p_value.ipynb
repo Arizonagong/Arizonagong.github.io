{
 "cells": [
  {
   "attachments": {},
   "cell_type": "markdown",
   "metadata": {},
   "source": [
    "# Hypothesis Testing\n",
    "\n",
    "Hypothesis testing indicates a scientific method proving whether a certain assumption stated in the form of hypothesis is true or not. In a common format, there are two competing hypothesis called null and alternative hypothesis. The null hypothesis is usually an assumption that needs to be challenged, and the alternative hypothesis is an opposite to the null hypothesis."
   ]
  },
  {
   "attachments": {},
   "cell_type": "markdown",
   "metadata": {},
   "source": [
    "1. How to prove in hypothesis testing\n",
    "\n",
    "The first step is accepting the null hypothesis as tentative truth until you will find the significant evidence to reject your null hypothesis. What does that mean? You will draw the population distribution with the normal t- or z- distribution and put the hypothesized value as the center(mean) of the distribution.\n",
    "\n",
    "The second step is defining 'the significant evidence to reject your null hypothesis'. The significant evidence is the extreme mean value distanced far away from the hypothesized value. Then, what is the extreme value distanced far away? The best practice in the statistical field is more than 2 standard deviation from the hypothesized mean value, which is 0-5% at the lower tail and 95-100% at the upper tail. The size underneath of the curve given the extreme value is called the p-value and we usually set 0.05 of p-value as sigificant evidence to reject the null hypothesis.\n",
    "\n",
    "Thus, when your sample mean indicates the x-values extremely unlikely to happen given the population mean and distribution, that is, if your sample mean causes less than or more than 0.05 p-value, a significance level, you will reject the null hypothesis. That is because your sample mean's probability to happen given the normal population distribution is less than 5%, and we don't think it is likely to happen when you do the perfect random sampling with enough size of samples.\n",
    "\n"
   ]
  },
  {
   "attachments": {},
   "cell_type": "markdown",
   "metadata": {},
   "source": [
    "2. Types of Hypothesis Testing\n",
    "\n",
    "2.1. Two Tail Testing\n",
    "\n",
    "Two tail testing's mathematical notation for the null and alternative hypothesis testing looks like this. What does it mean by two-tail testing? It means you will reject your null hypothesis whatever extreme or significant p value on both lower or upper side of hypothesized value in the population distribution.\n",
    "\n",
    "mu = population value\n",
    "hv = hypothesized value\n",
    "\n",
    "H0: mu=hv\n",
    "Ha: mu=/hv\n",
    "\n",
    "![twotail](two_tail.png \"two_tail\")"
   ]
  },
  {
   "cell_type": "code",
   "execution_count": 1,
   "metadata": {},
   "outputs": [],
   "source": [
    "import numpy as np\n",
    "import pandas as pd\n",
    "import scipy.stats as st"
   ]
  },
  {
   "cell_type": "code",
   "execution_count": 57,
   "metadata": {},
   "outputs": [
    {
     "name": "stdout",
     "output_type": "stream",
     "text": [
      "2.8235294117647083\n"
     ]
    }
   ],
   "source": [
    "# Two Tail Testing Example\n",
    "\n",
    "# Set your input values to calculate t value\n",
    "# Set your significant level: 0.025 and two tail\n",
    "# Calculate degree of freedom: n-1\n",
    "hv=3\n",
    "m=2.92\n",
    "sd=0.17\n",
    "n=36\n",
    "degf=n-1\n",
    "t=abs(m-hv)/(sd/np.sqrt(n))\n",
    "print(t)"
   ]
  },
  {
   "cell_type": "code",
   "execution_count": 59,
   "metadata": {},
   "outputs": [
    {
     "data": {
      "text/plain": [
       "0.007785446023753417"
      ]
     },
     "execution_count": 59,
     "metadata": {},
     "output_type": "execute_result"
    }
   ],
   "source": [
    "(1 - st.t.cdf(abs(t), degf))*2"
   ]
  },
  {
   "cell_type": "code",
   "execution_count": 44,
   "metadata": {},
   "outputs": [
    {
     "name": "stdout",
     "output_type": "stream",
     "text": [
      "1.6895724539637709 2.8235294117647083\n"
     ]
    }
   ],
   "source": [
    "# Left Tail Example\n",
    "\n",
    "# Set your input values to calculate t value\n",
    "# Set your significant level: 0.025 and two tail\n",
    "# Calculate degree of freedom: n-1\n",
    "hv=3\n",
    "m=2.92\n",
    "sd=0.17\n",
    "n=36\n",
    "degf=n-1\n",
    "t=abs(m-hv)/(sd/np.sqrt(n))\n",
    "#t_value=st.t.ppf(q=0.95,df=degf)\n",
    "print(t_value,t)\n"
   ]
  },
  {
   "cell_type": "code",
   "execution_count": 51,
   "metadata": {},
   "outputs": [
    {
     "name": "stdout",
     "output_type": "stream",
     "text": [
      "2.8235294117647083\n"
     ]
    },
    {
     "data": {
      "text/plain": [
       "0.007785446023753477"
      ]
     },
     "execution_count": 51,
     "metadata": {},
     "output_type": "execute_result"
    }
   ],
   "source": [
    "# Single tail testing:\n",
    "print(t)\n",
    "st.t.sf(np.abs(t), df=degf)*2"
   ]
  },
  {
   "cell_type": "code",
   "execution_count": 52,
   "metadata": {},
   "outputs": [
    {
     "data": {
      "text/plain": [
       "0.003888088175250659"
      ]
     },
     "execution_count": 52,
     "metadata": {},
     "output_type": "execute_result"
    }
   ],
   "source": [
    "\n",
    "(1 - st.t.cdf(abs(2.824), degf))"
   ]
  },
  {
   "cell_type": "code",
   "execution_count": null,
   "metadata": {},
   "outputs": [],
   "source": []
  }
 ],
 "metadata": {
  "kernelspec": {
   "display_name": ".venv",
   "language": "python",
   "name": "python3"
  },
  "language_info": {
   "codemirror_mode": {
    "name": "ipython",
    "version": 3
   },
   "file_extension": ".py",
   "mimetype": "text/x-python",
   "name": "python",
   "nbconvert_exporter": "python",
   "pygments_lexer": "ipython3",
   "version": "3.8.5"
  },
  "orig_nbformat": 4
 },
 "nbformat": 4,
 "nbformat_minor": 2
}
