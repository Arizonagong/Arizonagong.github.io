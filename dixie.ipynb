{
 "cells": [
  {
   "cell_type": "code",
   "execution_count": 1,
   "metadata": {},
   "outputs": [],
   "source": [
    "# \"pip install scikit-learn\" in your terminal to install the library\n",
    "# \"pip install seaborn\"\n",
    "import numpy as np\n",
    "import seaborn as sns\n",
    "import matplotlib.pyplot as plt\n",
    "\n",
    "from sklearn.linear_model import LinearRegression\n",
    "from sklearn import datasets, linear_model\n",
    "from sklearn.metrics import mean_squared_error,r2_score\n",
    "\n",
    "import pandas as pd"
   ]
  },
  {
   "cell_type": "code",
   "execution_count": 6,
   "metadata": {},
   "outputs": [],
   "source": [
    "# Load your mtcars data\n",
    "dixie = pd.read_csv(\"DixieShowtime.csv\")\n",
    "# Drop the last row which is redundant\n",
    "dixie.drop(labels=[8],\n",
    "           axis=0,\n",
    "           inplace=True)"
   ]
  },
  {
   "cell_type": "code",
   "execution_count": 7,
   "metadata": {},
   "outputs": [
    {
     "name": "stdout",
     "output_type": "stream",
     "text": [
      "Intercept: -42.56959361331917\n",
      "Coefficients: [('Television_Advertising', 22.40223856352808), ('Newspaper_Advertising', 19.49862751993546)]\n",
      "R2: 0.9322295320160102\n"
     ]
    }
   ],
   "source": [
    "# Multiple Linear Regression\n",
    "\n",
    "# Set your independent variables\n",
    "x=dixie[['Television_Advertising','Newspaper_Advertising']]\n",
    "# Set your dependent variable\n",
    "y=dixie['Weekly_Gross_Revenue']\n",
    "\n",
    "# Create your regression object which will include:\n",
    "# Regression coefficient and intercept\n",
    "regr=LinearRegression()\n",
    "\n",
    "# Fit your model(create your model)\n",
    "regr.fit(x,y)\n",
    "\n",
    "# Calculate your model's r2 value\n",
    "r_2=regr.score(x,y)\n",
    "\n",
    "# Print result\n",
    "print(\"Intercept:\", regr.intercept_)\n",
    "print(\"Coefficients:\",list(zip(x, regr.coef_)))\n",
    "print(\"R2:\",r_2)"
   ]
  }
 ],
 "metadata": {
  "kernelspec": {
   "display_name": ".venv",
   "language": "python",
   "name": "python3"
  },
  "language_info": {
   "codemirror_mode": {
    "name": "ipython",
    "version": 3
   },
   "file_extension": ".py",
   "mimetype": "text/x-python",
   "name": "python",
   "nbconvert_exporter": "python",
   "pygments_lexer": "ipython3",
   "version": "3.8.5"
  },
  "orig_nbformat": 4
 },
 "nbformat": 4,
 "nbformat_minor": 2
}
