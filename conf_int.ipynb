{
 "cells": [
  {
   "attachments": {},
   "cell_type": "markdown",
   "metadata": {},
   "source": [
    "# Confidence Interval: With Population Data"
   ]
  },
  {
   "attachments": {},
   "cell_type": "markdown",
   "metadata": {},
   "source": [
    "1. Load your Libraries"
   ]
  },
  {
   "cell_type": "code",
   "execution_count": 2,
   "metadata": {},
   "outputs": [],
   "source": [
    "import numpy as np\n",
    "import pandas as pd\n",
    "import scipy.stats as st"
   ]
  },
  {
   "attachments": {},
   "cell_type": "markdown",
   "metadata": {},
   "source": [
    "2. Load and Transform your Data"
   ]
  },
  {
   "cell_type": "code",
   "execution_count": 32,
   "metadata": {},
   "outputs": [
    {
     "data": {
      "text/html": [
       "<div>\n",
       "<style scoped>\n",
       "    .dataframe tbody tr th:only-of-type {\n",
       "        vertical-align: middle;\n",
       "    }\n",
       "\n",
       "    .dataframe tbody tr th {\n",
       "        vertical-align: top;\n",
       "    }\n",
       "\n",
       "    .dataframe thead th {\n",
       "        text-align: right;\n",
       "    }\n",
       "</style>\n",
       "<table border=\"1\" class=\"dataframe\">\n",
       "  <thead>\n",
       "    <tr style=\"text-align: right;\">\n",
       "      <th></th>\n",
       "      <th>annual_salary</th>\n",
       "    </tr>\n",
       "  </thead>\n",
       "  <tbody>\n",
       "    <tr>\n",
       "      <th>count</th>\n",
       "      <td>2500.000000</td>\n",
       "    </tr>\n",
       "    <tr>\n",
       "      <th>mean</th>\n",
       "      <td>51800.000000</td>\n",
       "    </tr>\n",
       "    <tr>\n",
       "      <th>std</th>\n",
       "      <td>4000.000067</td>\n",
       "    </tr>\n",
       "    <tr>\n",
       "      <th>min</th>\n",
       "      <td>40990.300000</td>\n",
       "    </tr>\n",
       "    <tr>\n",
       "      <th>25%</th>\n",
       "      <td>49036.500000</td>\n",
       "    </tr>\n",
       "    <tr>\n",
       "      <th>50%</th>\n",
       "      <td>51837.300000</td>\n",
       "    </tr>\n",
       "    <tr>\n",
       "      <th>75%</th>\n",
       "      <td>54577.675000</td>\n",
       "    </tr>\n",
       "    <tr>\n",
       "      <th>max</th>\n",
       "      <td>63538.700000</td>\n",
       "    </tr>\n",
       "  </tbody>\n",
       "</table>\n",
       "</div>"
      ],
      "text/plain": [
       "       annual_salary\n",
       "count    2500.000000\n",
       "mean    51800.000000\n",
       "std      4000.000067\n",
       "min     40990.300000\n",
       "25%     49036.500000\n",
       "50%     51837.300000\n",
       "75%     54577.675000\n",
       "max     63538.700000"
      ]
     },
     "execution_count": 32,
     "metadata": {},
     "output_type": "execute_result"
    }
   ],
   "source": [
    "# Load your data set\n",
    "df=pd.read_csv('EAI.csv')\n",
    "df.columns = [\"manager\", \"annual_salary\",\"training_program\"] # I change the column names because python does not recognize white space.\n",
    "df[[\"annual_salary\"]].describe()\n",
    "# This data set is your population."
   ]
  },
  {
   "attachments": {},
   "cell_type": "markdown",
   "metadata": {},
   "source": [
    "3. Random Sampling"
   ]
  },
  {
   "cell_type": "code",
   "execution_count": 33,
   "metadata": {},
   "outputs": [],
   "source": [
    "# Random sampling\n",
    "\n",
    "## set your sample size\n",
    "n=50\n",
    "df_sampl=df.sample(n)\n"
   ]
  },
  {
   "attachments": {},
   "cell_type": "markdown",
   "metadata": {},
   "source": [
    "4. Set your Input Values for CI Calculation"
   ]
  },
  {
   "cell_type": "code",
   "execution_count": 34,
   "metadata": {},
   "outputs": [
    {
     "name": "stdout",
     "output_type": "stream",
     "text": [
      "sample size= 50 \n",
      "mean of sample= 50285.64 \n",
      "standard deviation of sampe= 4047.01206979436 \n",
      "your level confidence= 0.95 \n",
      "degree of freedom= 49\n"
     ]
    }
   ],
   "source": [
    "# Create key input indicators\n",
    "\n",
    "## point estimation of mean\n",
    "m=df_sampl[\"annual_salary\"].mean()\n",
    "## point estimation of standard deviation\n",
    "sd=df_sampl['annual_salary'].std()\n",
    "## How much can we trust your sampled data's point estimate value? = confidence\n",
    "cf=0.95\n",
    "## What is your degree of freedom = your sample size\n",
    "df_n=n-1\n",
    "\n",
    "print('sample size=',n,'\\n'\n",
    "      'mean of sample=',m,'\\n'\n",
    "      'standard deviation of sampe=',sd,'\\n'\n",
    "      \"your level confidence=\",cf,'\\n'\n",
    "      \"degree of freedom=\",df_n)\n"
   ]
  },
  {
   "attachments": {},
   "cell_type": "markdown",
   "metadata": {},
   "source": [
    "5. T Value Calculation"
   ]
  },
  {
   "cell_type": "code",
   "execution_count": 35,
   "metadata": {},
   "outputs": [
    {
     "name": "stdout",
     "output_type": "stream",
     "text": [
      "2.009575234489209\n"
     ]
    }
   ],
   "source": [
    "# T value calculation\n",
    "\n",
    "# First calculate t value given your confidence level\n",
    "# abs: absolute value\n",
    "# ppf: calculate cumulative distribution\n",
    "# 1-cf/2: left and right tail of the margin in the t distribution\n",
    "t_crit=np.abs(st.t.ppf((1-cf)/2,n-1))\n",
    "print(t_crit)"
   ]
  },
  {
   "attachments": {},
   "cell_type": "markdown",
   "metadata": {},
   "source": [
    "6. Confidence Interval Calculation"
   ]
  },
  {
   "cell_type": "code",
   "execution_count": 36,
   "metadata": {},
   "outputs": [
    {
     "data": {
      "text/plain": [
       "(49135.491897122156, 51435.78810287784)"
      ]
     },
     "execution_count": 36,
     "metadata": {},
     "output_type": "execute_result"
    }
   ],
   "source": [
    "# Caculate the margin of error and subtract and add to the mean to create confidence interval\n",
    "(m-sd*t_crit/np.sqrt(n), m+sd*t_crit/np.sqrt(n)) "
   ]
  },
  {
   "cell_type": "code",
   "execution_count": 6,
   "metadata": {},
   "outputs": [
    {
     "name": "stdout",
     "output_type": "stream",
     "text": [
      "1.9623414611334487\n"
     ]
    },
    {
     "data": {
      "text/plain": [
       "(0.01861640569249344, 0.01861640569249344)"
      ]
     },
     "execution_count": 6,
     "metadata": {},
     "output_type": "execute_result"
    }
   ],
   "source": [
    "n=1000\n",
    "m=4.2\n",
    "sd=0.3\n",
    "cf=0.95\n",
    "df=n-1\n",
    "t_crit=np.abs(st.t.ppf((1-cf)/2,n-1))\n",
    "print(t_crit)\n",
    "(sd*t_crit/np.sqrt(n), sd*t_crit/np.sqrt(n)) \n",
    "\n"
   ]
  }
 ],
 "metadata": {
  "kernelspec": {
   "display_name": ".venv",
   "language": "python",
   "name": "python3"
  },
  "language_info": {
   "codemirror_mode": {
    "name": "ipython",
    "version": 3
   },
   "file_extension": ".py",
   "mimetype": "text/x-python",
   "name": "python",
   "nbconvert_exporter": "python",
   "pygments_lexer": "ipython3",
   "version": "3.8.5"
  },
  "orig_nbformat": 4
 },
 "nbformat": 4,
 "nbformat_minor": 2
}
