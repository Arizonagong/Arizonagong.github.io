{
 "cells": [
  {
   "attachments": {},
   "cell_type": "markdown",
   "metadata": {},
   "source": [
    "# 1. Download All Required Libraries"
   ]
  },
  {
   "cell_type": "code",
   "execution_count": null,
   "metadata": {},
   "outputs": [],
   "source": [
    "# copy and paste the following statement\n",
    "# pip install pandas\n",
    "# pip install numpy\n",
    "# pip install scipy\n",
    "# pip install statistics\n",
    "# pip install matplotlib\n",
    "# pip install seaborn"
   ]
  },
  {
   "attachments": {},
   "cell_type": "markdown",
   "metadata": {},
   "source": [
    "# 2. Import Libraries With Their Accronyms"
   ]
  },
  {
   "cell_type": "code",
   "execution_count": 7,
   "metadata": {},
   "outputs": [],
   "source": [
    "import numpy as np\n",
    "import pandas as pd\n",
    "import matplotlib as map\n",
    "import matplotlib.pyplot as plt\n",
    "import scipy as sc\n",
    "import statistics as stat\n",
    "from scipy.stats import binom"
   ]
  },
  {
   "attachments": {},
   "cell_type": "markdown",
   "metadata": {},
   "source": [
    "# 3. Calculating Binomial Distribution\n",
    "\n",
    "## (1) Calculating single probability value\n",
    "\n",
    "To calculate probability of specific value to happen, we need to identify:\n",
    "1. **number of tirals**: n\n",
    "2. **success rate**: p\n",
    "3. **value of interest**: x\n",
    "\n",
    "Let't assume that we are tossing a coin and our question is: \n",
    "**How many chanses to see 3 times for heads for five tossing**"
   ]
  },
  {
   "cell_type": "code",
   "execution_count": 36,
   "metadata": {},
   "outputs": [
    {
     "data": {
      "text/plain": [
       "1.8741235435426524e-58"
      ]
     },
     "execution_count": 36,
     "metadata": {},
     "output_type": "execute_result"
    }
   ],
   "source": [
    "n = 5000\n",
    "p = 0.3\n",
    "x = 1000\n",
    "\n",
    "# calculation of binomial prob.\n",
    "binomial_pmf_single=binom.pmf(x,n,p)\n",
    "binomial_pmf_single"
   ]
  },
  {
   "attachments": {},
   "cell_type": "markdown",
   "metadata": {},
   "source": [
    "## (2) Calculating entire probability distribution\n",
    "To create the entire probability distribution, we need to describe the whole range of probable value x."
   ]
  },
  {
   "cell_type": "code",
   "execution_count": 37,
   "metadata": {},
   "outputs": [
    {
     "data": {
      "text/plain": [
       "array([   0,    1,    2, ..., 4998, 4999, 5000])"
      ]
     },
     "execution_count": 37,
     "metadata": {},
     "output_type": "execute_result"
    }
   ],
   "source": [
    "# We can provide the entire range of possible value from 0 to 1001.\n",
    "k=np.arange(0,n+1)\n",
    "k"
   ]
  },
  {
   "cell_type": "code",
   "execution_count": 38,
   "metadata": {},
   "outputs": [
    {
     "name": "stderr",
     "output_type": "stream",
     "text": [
      "/Users/bgong/Documents/PyProjects/blog/Arizonagong.github.io/.venv/lib/python3.8/site-packages/scipy/stats/_discrete_distns.py:77: RuntimeWarning: divide by zero encountered in _binom_pdf\n",
      "  return _boost._binom_pdf(x, n, p)\n"
     ]
    },
    {
     "data": {
      "text/plain": [
       "array([0., 0., 0., ..., 0., 0., 0.])"
      ]
     },
     "execution_count": 38,
     "metadata": {},
     "output_type": "execute_result"
    }
   ],
   "source": [
    "# With k, array of all possible values, we can calculate their probability in mass\n",
    "binomial_pmf_all=binom.pmf(k,n,p)\n",
    "binomial_pmf_all"
   ]
  },
  {
   "attachments": {},
   "cell_type": "markdown",
   "metadata": {},
   "source": [
    "# 4. Visualizing Binomial Distribution "
   ]
  },
  {
   "cell_type": "code",
   "execution_count": 39,
   "metadata": {},
   "outputs": [
    {
     "data": {
      "image/png": "[encoded data removed]",
      "text/plain": [
       "<Figure size 640x480 with 1 Axes>"
      ]
     },
     "metadata": {},
     "output_type": "display_data"
    }
   ],
   "source": [
    "# plt.bar function creates bar function.\n",
    "# The function indicates the following: \n",
    "# x=k, y=binomial_pmf_all, color='blue'\n",
    "plt.bar(k, binomial_pmf_all, color='blue')\n",
    "\n",
    "# plt.title function add the title of the plot\n",
    "plt.title(f\"Binomial Distribution (n={n}, p={p})\")\n",
    "plt.show()"
   ]
  }
 ],
 "metadata": {
  "kernelspec": {
   "display_name": ".venv",
   "language": "python",
   "name": "python3"
  },
  "language_info": {
   "codemirror_mode": {
    "name": "ipython",
    "version": 3
   },
   "file_extension": ".py",
   "mimetype": "text/x-python",
   "name": "python",
   "nbconvert_exporter": "python",
   "pygments_lexer": "ipython3",
   "version": "3.8.5"
  },
  "orig_nbformat": 4
 },
 "nbformat": 4,
 "nbformat_minor": 2
}
